{
 "cells": [
  {
   "cell_type": "markdown",
   "metadata": {},
   "source": [
    "# IBM Capstone Project: The Battle of the Neighborhoods"
   ]
  },
  {
   "cell_type": "markdown",
   "metadata": {},
   "source": [
    "## Week One"
   ]
  },
  {
   "cell_type": "markdown",
   "metadata": {},
   "source": [
    " \n",
    "  "
   ]
  },
  {
   "cell_type": "markdown",
   "metadata": {},
   "source": [
    "### Background:"
   ]
  },
  {
   "cell_type": "markdown",
   "metadata": {},
   "source": [
    "Denver is a large city in Colorado, USA and the central neighborhood accounts for around 100,000 people.\n",
    "\n",
    "For this project, I'll be looking at the neighborhoods of Baker, Capitol Hill, Cherry Creek, Cheesman Park, City Park, Congress Park, City Park West, Civic Center, Country Club, Lincoln Park, North Capitol Hill, Speer, and Union Station."
   ]
  },
  {
   "cell_type": "markdown",
   "metadata": {},
   "source": [
    "### Problem:"
   ]
  },
  {
   "cell_type": "markdown",
   "metadata": {},
   "source": [
    "In this project, I will investigate if there is a good location in central Denver to open a Turkish restaurant."
   ]
  },
  {
   "cell_type": "markdown",
   "metadata": {},
   "source": [
    "### Description of the data:"
   ]
  },
  {
   "cell_type": "markdown",
   "metadata": {},
   "source": [
    "I'll get the neighborhood data from Wikipedia\n",
    "\n",
    "I'll use python geocoder library to get geographical coordinates of neighborhoods\n",
    "\n",
    "I'll use the Foursquare API venues explore method to get the venues of given neighborhoods \n",
    "\n",
    "I'll use Foursquare API venues method to get ranks and likes of restaurants by given venue id\n"
   ]
  }
 ],
 "metadata": {
  "kernelspec": {
   "display_name": "Python 3",
   "language": "python",
   "name": "python3"
  },
  "language_info": {
   "codemirror_mode": {
    "name": "ipython",
    "version": 3
   },
   "file_extension": ".py",
   "mimetype": "text/x-python",
   "name": "python",
   "nbconvert_exporter": "python",
   "pygments_lexer": "ipython3",
   "version": "3.7.4"
  }
 },
 "nbformat": 4,
 "nbformat_minor": 2
}
