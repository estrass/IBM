{
 "cells": [
  {
   "cell_type": "markdown",
   "metadata": {},
   "source": [
    "# IBM Capstone Project: The Battle of the Neighborhoods"
   ]
  },
  {
   "cell_type": "markdown",
   "metadata": {},
   "source": [
    "### 1) Install & Import"
   ]
  },
  {
   "cell_type": "code",
   "execution_count": 1,
   "metadata": {},
   "outputs": [],
   "source": [
    "#!pip install geopy    \n",
    "#!pip install folium   \n",
    "#!pip install geocoder"
   ]
  },
  {
   "cell_type": "code",
   "execution_count": 2,
   "metadata": {},
   "outputs": [
    {
     "name": "stdout",
     "output_type": "stream",
     "text": [
      "DONE!\n"
     ]
    }
   ],
   "source": [
    "import numpy as np \n",
    "import pandas as pd\n",
    "import matplotlib.pyplot as plt\n",
    "import json \n",
    "import geocoder \n",
    "import requests\n",
    "\n",
    "from geopy.geocoders import Nominatim\n",
    "\n",
    "import matplotlib.cm as cm\n",
    "import matplotlib.colors as colors\n",
    "\n",
    "from sklearn.cluster import KMeans\n",
    "\n",
    "import folium \n",
    "from folium import plugins\n",
    "from folium.plugins import HeatMap\n",
    "\n",
    "from pandas.io.json import json_normalize\n",
    "import folium\n",
    "from geopy.geocoders import Nominatim \n",
    "import requests\n",
    "\n",
    "print('DONE!')"
   ]
  },
  {
   "cell_type": "markdown",
   "metadata": {},
   "source": [
    "### 2) Geocoordinates & Neighborhood data "
   ]
  },
  {
   "cell_type": "code",
   "execution_count": 3,
   "metadata": {},
   "outputs": [
    {
     "name": "stdout",
     "output_type": "stream",
     "text": [
      "The coordinate of Denver, Colorado are 39.7392364, -104.9848623.\n"
     ]
    }
   ],
   "source": [
    "DENVER = 'Denver, Colorado'\n",
    "\n",
    "geolocator = Nominatim(user_agent=\"denver_explorer\")\n",
    "\n",
    "location = geolocator.geocode(DENVER)\n",
    "latitude = location.latitude\n",
    "longitude = location.longitude\n",
    "denver_center = [latitude, longitude]\n",
    "\n",
    "print('The coordinate of {} are {}, {}.'.format(DENVER, latitude, longitude))"
   ]
  },
  {
   "cell_type": "code",
   "execution_count": 4,
   "metadata": {},
   "outputs": [
    {
     "data": {
      "text/html": [
       "<div>\n",
       "<style scoped>\n",
       "    .dataframe tbody tr th:only-of-type {\n",
       "        vertical-align: middle;\n",
       "    }\n",
       "\n",
       "    .dataframe tbody tr th {\n",
       "        vertical-align: top;\n",
       "    }\n",
       "\n",
       "    .dataframe thead th {\n",
       "        text-align: right;\n",
       "    }\n",
       "</style>\n",
       "<table border=\"1\" class=\"dataframe\">\n",
       "  <thead>\n",
       "    <tr style=\"text-align: right;\">\n",
       "      <th></th>\n",
       "      <th>Neighborhoods</th>\n",
       "      <th>Pop</th>\n",
       "    </tr>\n",
       "  </thead>\n",
       "  <tbody>\n",
       "    <tr>\n",
       "      <td>0</td>\n",
       "      <td>Baker</td>\n",
       "      <td>4879</td>\n",
       "    </tr>\n",
       "    <tr>\n",
       "      <td>1</td>\n",
       "      <td>Capitol Hill</td>\n",
       "      <td>14708</td>\n",
       "    </tr>\n",
       "    <tr>\n",
       "      <td>2</td>\n",
       "      <td>Cherry Creek</td>\n",
       "      <td>5028</td>\n",
       "    </tr>\n",
       "    <tr>\n",
       "      <td>3</td>\n",
       "      <td>Cheesman Park</td>\n",
       "      <td>5907</td>\n",
       "    </tr>\n",
       "    <tr>\n",
       "      <td>4</td>\n",
       "      <td>City Park</td>\n",
       "      <td>6228</td>\n",
       "    </tr>\n",
       "    <tr>\n",
       "      <td>5</td>\n",
       "      <td>Congress Park</td>\n",
       "      <td>24527</td>\n",
       "    </tr>\n",
       "    <tr>\n",
       "      <td>6</td>\n",
       "      <td>City Park West</td>\n",
       "      <td>5393</td>\n",
       "    </tr>\n",
       "    <tr>\n",
       "      <td>7</td>\n",
       "      <td>Civic Center</td>\n",
       "      <td>1577</td>\n",
       "    </tr>\n",
       "    <tr>\n",
       "      <td>8</td>\n",
       "      <td>Lincoln Park</td>\n",
       "      <td>6119</td>\n",
       "    </tr>\n",
       "    <tr>\n",
       "      <td>9</td>\n",
       "      <td>North Capitol Hill</td>\n",
       "      <td>5823</td>\n",
       "    </tr>\n",
       "    <tr>\n",
       "      <td>10</td>\n",
       "      <td>Speer</td>\n",
       "      <td>10955</td>\n",
       "    </tr>\n",
       "    <tr>\n",
       "      <td>11</td>\n",
       "      <td>Union Station</td>\n",
       "      <td>5878</td>\n",
       "    </tr>\n",
       "  </tbody>\n",
       "</table>\n",
       "</div>"
      ],
      "text/plain": [
       "         Neighborhoods    Pop\n",
       "0                Baker   4879\n",
       "1         Capitol Hill  14708\n",
       "2         Cherry Creek   5028\n",
       "3        Cheesman Park   5907\n",
       "4            City Park   6228\n",
       "5        Congress Park  24527\n",
       "6       City Park West   5393\n",
       "7         Civic Center   1577\n",
       "8         Lincoln Park   6119\n",
       "9   North Capitol Hill   5823\n",
       "10               Speer  10955\n",
       "11       Union Station   5878"
      ]
     },
     "execution_count": 4,
     "metadata": {},
     "output_type": "execute_result"
    }
   ],
   "source": [
    "data = pd.read_csv(\"Book1.csv\")\n",
    "\n",
    "data.rename(columns={'Neighborhoods ':'Neighborhoods'}, inplace=True)\n",
    "\n",
    "del data['Unnamed: 2']\n",
    "del data['Unnamed: 3']\n",
    "del data['Unnamed: 4']\n",
    "del data['Unnamed: 5']\n",
    "del data['Unnamed: 6']\n",
    "del data['Unnamed: 7']\n",
    "\n",
    "data"
   ]
  },
  {
   "cell_type": "code",
   "execution_count": 5,
   "metadata": {},
   "outputs": [
    {
     "data": {
      "text/html": [
       "<div>\n",
       "<style scoped>\n",
       "    .dataframe tbody tr th:only-of-type {\n",
       "        vertical-align: middle;\n",
       "    }\n",
       "\n",
       "    .dataframe tbody tr th {\n",
       "        vertical-align: top;\n",
       "    }\n",
       "\n",
       "    .dataframe thead th {\n",
       "        text-align: right;\n",
       "    }\n",
       "</style>\n",
       "<table border=\"1\" class=\"dataframe\">\n",
       "  <thead>\n",
       "    <tr style=\"text-align: right;\">\n",
       "      <th></th>\n",
       "      <th>Neighborhoods</th>\n",
       "      <th>Pop</th>\n",
       "      <th>Latitude</th>\n",
       "      <th>Longitude</th>\n",
       "    </tr>\n",
       "  </thead>\n",
       "  <tbody>\n",
       "    <tr>\n",
       "      <td>0</td>\n",
       "      <td>Baker</td>\n",
       "      <td>4879</td>\n",
       "      <td>39.71117</td>\n",
       "      <td>-104.99209</td>\n",
       "    </tr>\n",
       "    <tr>\n",
       "      <td>1</td>\n",
       "      <td>Capitol Hill</td>\n",
       "      <td>14708</td>\n",
       "      <td>39.73370</td>\n",
       "      <td>-104.97957</td>\n",
       "    </tr>\n",
       "    <tr>\n",
       "      <td>2</td>\n",
       "      <td>Cherry Creek</td>\n",
       "      <td>5028</td>\n",
       "      <td>39.71782</td>\n",
       "      <td>-104.94873</td>\n",
       "    </tr>\n",
       "    <tr>\n",
       "      <td>3</td>\n",
       "      <td>Cheesman Park</td>\n",
       "      <td>5907</td>\n",
       "      <td>39.72911</td>\n",
       "      <td>-104.96817</td>\n",
       "    </tr>\n",
       "    <tr>\n",
       "      <td>4</td>\n",
       "      <td>City Park</td>\n",
       "      <td>6228</td>\n",
       "      <td>39.74379</td>\n",
       "      <td>-104.94825</td>\n",
       "    </tr>\n",
       "    <tr>\n",
       "      <td>5</td>\n",
       "      <td>Congress Park</td>\n",
       "      <td>24527</td>\n",
       "      <td>39.73359</td>\n",
       "      <td>-104.95001</td>\n",
       "    </tr>\n",
       "    <tr>\n",
       "      <td>6</td>\n",
       "      <td>City Park West</td>\n",
       "      <td>5393</td>\n",
       "      <td>39.74545</td>\n",
       "      <td>-104.96720</td>\n",
       "    </tr>\n",
       "    <tr>\n",
       "      <td>7</td>\n",
       "      <td>Civic Center</td>\n",
       "      <td>1577</td>\n",
       "      <td>39.73526</td>\n",
       "      <td>-104.99058</td>\n",
       "    </tr>\n",
       "    <tr>\n",
       "      <td>8</td>\n",
       "      <td>Lincoln Park</td>\n",
       "      <td>6119</td>\n",
       "      <td>39.72896</td>\n",
       "      <td>-105.00222</td>\n",
       "    </tr>\n",
       "    <tr>\n",
       "      <td>9</td>\n",
       "      <td>North Capitol Hill</td>\n",
       "      <td>5823</td>\n",
       "      <td>39.74425</td>\n",
       "      <td>-104.98108</td>\n",
       "    </tr>\n",
       "    <tr>\n",
       "      <td>10</td>\n",
       "      <td>Speer</td>\n",
       "      <td>10955</td>\n",
       "      <td>39.71933</td>\n",
       "      <td>-104.98000</td>\n",
       "    </tr>\n",
       "    <tr>\n",
       "      <td>11</td>\n",
       "      <td>Union Station</td>\n",
       "      <td>5878</td>\n",
       "      <td>39.75349</td>\n",
       "      <td>-104.99888</td>\n",
       "    </tr>\n",
       "  </tbody>\n",
       "</table>\n",
       "</div>"
      ],
      "text/plain": [
       "         Neighborhoods    Pop  Latitude  Longitude\n",
       "0                Baker   4879  39.71117 -104.99209\n",
       "1         Capitol Hill  14708  39.73370 -104.97957\n",
       "2         Cherry Creek   5028  39.71782 -104.94873\n",
       "3        Cheesman Park   5907  39.72911 -104.96817\n",
       "4            City Park   6228  39.74379 -104.94825\n",
       "5        Congress Park  24527  39.73359 -104.95001\n",
       "6       City Park West   5393  39.74545 -104.96720\n",
       "7         Civic Center   1577  39.73526 -104.99058\n",
       "8         Lincoln Park   6119  39.72896 -105.00222\n",
       "9   North Capitol Hill   5823  39.74425 -104.98108\n",
       "10               Speer  10955  39.71933 -104.98000\n",
       "11       Union Station   5878  39.75349 -104.99888"
      ]
     },
     "execution_count": 5,
     "metadata": {},
     "output_type": "execute_result"
    }
   ],
   "source": [
    "def get_latlng(neighborhood):\n",
    "    lat_lng_coords = None\n",
    "    while(lat_lng_coords is None):\n",
    "        g = geocoder.arcgis('{}, {}'.format(neighborhood,DENVER))\n",
    "        lat_lng_coords = g.latlng\n",
    "    return lat_lng_coords\n",
    "\n",
    "coords = [ get_latlng(neighborhood) for neighborhood in data[\"Neighborhoods\"].tolist() ]\n",
    "\n",
    "df_coords = pd.DataFrame(coords, columns=['Latitude', 'Longitude'])\n",
    "\n",
    "data['Latitude'] = df_coords['Latitude']\n",
    "data['Longitude'] = df_coords['Longitude']\n",
    "\n",
    "data"
   ]
  },
  {
   "cell_type": "markdown",
   "metadata": {},
   "source": [
    "#### Map"
   ]
  },
  {
   "cell_type": "code",
   "execution_count": 162,
   "metadata": {},
   "outputs": [
    {
     "data": {
      "text/html": [
       "<div style=\"width:100%;\"><div style=\"position:relative;width:100%;height:0;padding-bottom:60%;\"><span style=\"color:#565656\">Make this Notebook Trusted to load map: File -> Trust Notebook</span><iframe src=\"about:blank\" style=\"position:absolute;width:100%;height:100%;left:0;top:0;border:none !important;\" data-html=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 onload=\"this.contentDocument.open();this.contentDocument.write(atob(this.getAttribute('data-html')));this.contentDocument.close();\" allowfullscreen webkitallowfullscreen mozallowfullscreen></iframe></div></div>"
      ],
      "text/plain": [
       "<folium.folium.Map at 0x25ecd221fc8>"
      ]
     },
     "execution_count": 162,
     "metadata": {},
     "output_type": "execute_result"
    }
   ],
   "source": [
    "map1 = folium.Map(location=[latitude - .005, longitude + .01], zoom_start=13)\n",
    "\n",
    "for lat, lng,  neighborhood in zip(data['Latitude'], data['Longitude'], data['Neighborhoods']):\n",
    "    label = '{}'.format(neighborhood)\n",
    "    label = folium.Popup(label, parse_html=True)\n",
    "    folium.CircleMarker(\n",
    "        [lat, lng],\n",
    "        radius=30,\n",
    "        popup=label,\n",
    "        color='blue',\n",
    "        fill=True,\n",
    "        fill_color='#3186cc',\n",
    "        fill_opacity=0.25,\n",
    "        parse_html=False).add_to(map1)  \n",
    "    \n",
    "map1"
   ]
  },
  {
   "cell_type": "markdown",
   "metadata": {},
   "source": [
    "### 3) Load Other Venues"
   ]
  },
  {
   "cell_type": "code",
   "execution_count": 7,
   "metadata": {},
   "outputs": [],
   "source": [
    "CLIENT_ID = 'ZP2VDL0SFT4WVRKLRGCZPKTEL0W1O1Z0LTGN5AJLPAMMO2TJ'\n",
    "CLIENT_SECRET = 'HKKLXSTGOPEVTM2AQQYQ5STUMP2MX0EZ2JFBPRETKR155ZEW'\n",
    "VERSION = '20180604'"
   ]
  },
  {
   "cell_type": "code",
   "execution_count": 8,
   "metadata": {},
   "outputs": [],
   "source": [
    "LIMIT = 100\n",
    "\n",
    "def getNeighborhoodVenues( latitude, longitude, neighborhood, radius=1000 ):\n",
    "    tempV = []\n",
    "    for lat, long, neighborhood in zip(latitude, longitude, neighborhood):\n",
    "\n",
    "        url = \"https://api.foursquare.com/v2/venues/explore?client_id={}&client_secret={}&v={}&ll={},{}&radius={}&limit={}\".format(\n",
    "            CLIENT_ID,\n",
    "            CLIENT_SECRET,\n",
    "            VERSION,\n",
    "            lat,\n",
    "            long,\n",
    "            radius, \n",
    "            LIMIT)\n",
    "\n",
    "        results = requests.get(url).json()[\"response\"]['groups'][0]['items']\n",
    "\n",
    "        for venue in results:\n",
    "            tempV.append((\n",
    "                neighborhood,\n",
    "                lat, \n",
    "                long, \n",
    "                venue['venue']['name'], \n",
    "                venue['venue']['id'], \n",
    "                venue['venue']['location']['lat'], \n",
    "                venue['venue']['location']['lng'],  \n",
    "                venue['venue']['location']['distance'],  \n",
    "                venue['venue']['categories'][0]['name']))\n",
    "\n",
    "    tempV = pd.DataFrame(tempV)\n",
    "\n",
    "    tempV.columns = ['Neighborhoods', 'Latitude', 'Longitude', 'VenueName', 'VenueId', 'VenueLatitude', 'VenueLongitude','VenueDistance','VenueCategory']\n",
    "            \n",
    "    return tempV "
   ]
  },
  {
   "cell_type": "code",
   "execution_count": 9,
   "metadata": {},
   "outputs": [
    {
     "data": {
      "text/html": [
       "<div>\n",
       "<style scoped>\n",
       "    .dataframe tbody tr th:only-of-type {\n",
       "        vertical-align: middle;\n",
       "    }\n",
       "\n",
       "    .dataframe tbody tr th {\n",
       "        vertical-align: top;\n",
       "    }\n",
       "\n",
       "    .dataframe thead th {\n",
       "        text-align: right;\n",
       "    }\n",
       "</style>\n",
       "<table border=\"1\" class=\"dataframe\">\n",
       "  <thead>\n",
       "    <tr style=\"text-align: right;\">\n",
       "      <th></th>\n",
       "      <th>Neighborhoods</th>\n",
       "      <th>Latitude</th>\n",
       "      <th>Longitude</th>\n",
       "      <th>VenueName</th>\n",
       "      <th>VenueId</th>\n",
       "      <th>VenueLatitude</th>\n",
       "      <th>VenueLongitude</th>\n",
       "      <th>VenueDistance</th>\n",
       "      <th>VenueCategory</th>\n",
       "    </tr>\n",
       "  </thead>\n",
       "  <tbody>\n",
       "    <tr>\n",
       "      <td>0</td>\n",
       "      <td>Baker</td>\n",
       "      <td>39.71117</td>\n",
       "      <td>-104.99209</td>\n",
       "      <td>Illegal Pete's South Broadway</td>\n",
       "      <td>51cdb21e498e228302912362</td>\n",
       "      <td>39.711768</td>\n",
       "      <td>-104.987187</td>\n",
       "      <td>425</td>\n",
       "      <td>Mexican Restaurant</td>\n",
       "    </tr>\n",
       "    <tr>\n",
       "      <td>1</td>\n",
       "      <td>Baker</td>\n",
       "      <td>39.71117</td>\n",
       "      <td>-104.99209</td>\n",
       "      <td>Denver Biscuit Company</td>\n",
       "      <td>527d30c7498e71081051664d</td>\n",
       "      <td>39.713770</td>\n",
       "      <td>-104.987778</td>\n",
       "      <td>469</td>\n",
       "      <td>Breakfast Spot</td>\n",
       "    </tr>\n",
       "    <tr>\n",
       "      <td>2</td>\n",
       "      <td>Baker</td>\n",
       "      <td>39.71117</td>\n",
       "      <td>-104.99209</td>\n",
       "      <td>Bardo Coffee House</td>\n",
       "      <td>4bb8fdcab35776b05e7dc901</td>\n",
       "      <td>39.712266</td>\n",
       "      <td>-104.987351</td>\n",
       "      <td>423</td>\n",
       "      <td>Coffee Shop</td>\n",
       "    </tr>\n",
       "    <tr>\n",
       "      <td>3</td>\n",
       "      <td>Baker</td>\n",
       "      <td>39.71117</td>\n",
       "      <td>-104.99209</td>\n",
       "      <td>Livwell</td>\n",
       "      <td>519f8fad498ef5973130046c</td>\n",
       "      <td>39.708700</td>\n",
       "      <td>-104.987460</td>\n",
       "      <td>482</td>\n",
       "      <td>Marijuana Dispensary</td>\n",
       "    </tr>\n",
       "    <tr>\n",
       "      <td>4</td>\n",
       "      <td>Baker</td>\n",
       "      <td>39.71117</td>\n",
       "      <td>-104.99209</td>\n",
       "      <td>Stranahan's Colorado Whiskey</td>\n",
       "      <td>4b3d1152f964a520398d25e3</td>\n",
       "      <td>39.712253</td>\n",
       "      <td>-104.998576</td>\n",
       "      <td>568</td>\n",
       "      <td>Distillery</td>\n",
       "    </tr>\n",
       "    <tr>\n",
       "      <td>...</td>\n",
       "      <td>...</td>\n",
       "      <td>...</td>\n",
       "      <td>...</td>\n",
       "      <td>...</td>\n",
       "      <td>...</td>\n",
       "      <td>...</td>\n",
       "      <td>...</td>\n",
       "      <td>...</td>\n",
       "      <td>...</td>\n",
       "    </tr>\n",
       "    <tr>\n",
       "      <td>1054</td>\n",
       "      <td>Union Station</td>\n",
       "      <td>39.75349</td>\n",
       "      <td>-104.99888</td>\n",
       "      <td>P.F. Chang's</td>\n",
       "      <td>4a95dceff964a520192520e3</td>\n",
       "      <td>39.749279</td>\n",
       "      <td>-104.999730</td>\n",
       "      <td>474</td>\n",
       "      <td>Chinese Restaurant</td>\n",
       "    </tr>\n",
       "    <tr>\n",
       "      <td>1055</td>\n",
       "      <td>Union Station</td>\n",
       "      <td>39.75349</td>\n",
       "      <td>-104.99888</td>\n",
       "      <td>Colorado Athletic Club - 16th Street</td>\n",
       "      <td>4bb9038f53649c74e49c47fb</td>\n",
       "      <td>39.748789</td>\n",
       "      <td>-104.996578</td>\n",
       "      <td>559</td>\n",
       "      <td>Gym</td>\n",
       "    </tr>\n",
       "    <tr>\n",
       "      <td>1056</td>\n",
       "      <td>Union Station</td>\n",
       "      <td>39.75349</td>\n",
       "      <td>-104.99888</td>\n",
       "      <td>Whole Foods Juice Bar</td>\n",
       "      <td>5a4bf31ec4df1d5eb204fa32</td>\n",
       "      <td>39.754437</td>\n",
       "      <td>-105.001569</td>\n",
       "      <td>253</td>\n",
       "      <td>Juice Bar</td>\n",
       "    </tr>\n",
       "    <tr>\n",
       "      <td>1057</td>\n",
       "      <td>Union Station</td>\n",
       "      <td>39.75349</td>\n",
       "      <td>-104.99888</td>\n",
       "      <td>Aloy Modern Thai</td>\n",
       "      <td>566b2d8b498e58e746df5629</td>\n",
       "      <td>39.754306</td>\n",
       "      <td>-104.990624</td>\n",
       "      <td>712</td>\n",
       "      <td>Thai Restaurant</td>\n",
       "    </tr>\n",
       "    <tr>\n",
       "      <td>1058</td>\n",
       "      <td>Union Station</td>\n",
       "      <td>39.75349</td>\n",
       "      <td>-104.99888</td>\n",
       "      <td>Society Sports &amp; Spirits</td>\n",
       "      <td>5323b83b11d2391c01a91ecc</td>\n",
       "      <td>39.749143</td>\n",
       "      <td>-105.000865</td>\n",
       "      <td>512</td>\n",
       "      <td>Bar</td>\n",
       "    </tr>\n",
       "  </tbody>\n",
       "</table>\n",
       "<p>1059 rows × 9 columns</p>\n",
       "</div>"
      ],
      "text/plain": [
       "      Neighborhoods  Latitude  Longitude  \\\n",
       "0             Baker  39.71117 -104.99209   \n",
       "1             Baker  39.71117 -104.99209   \n",
       "2             Baker  39.71117 -104.99209   \n",
       "3             Baker  39.71117 -104.99209   \n",
       "4             Baker  39.71117 -104.99209   \n",
       "...             ...       ...        ...   \n",
       "1054  Union Station  39.75349 -104.99888   \n",
       "1055  Union Station  39.75349 -104.99888   \n",
       "1056  Union Station  39.75349 -104.99888   \n",
       "1057  Union Station  39.75349 -104.99888   \n",
       "1058  Union Station  39.75349 -104.99888   \n",
       "\n",
       "                                 VenueName                   VenueId  \\\n",
       "0            Illegal Pete's South Broadway  51cdb21e498e228302912362   \n",
       "1                   Denver Biscuit Company  527d30c7498e71081051664d   \n",
       "2                       Bardo Coffee House  4bb8fdcab35776b05e7dc901   \n",
       "3                                  Livwell  519f8fad498ef5973130046c   \n",
       "4             Stranahan's Colorado Whiskey  4b3d1152f964a520398d25e3   \n",
       "...                                    ...                       ...   \n",
       "1054                          P.F. Chang's  4a95dceff964a520192520e3   \n",
       "1055  Colorado Athletic Club - 16th Street  4bb9038f53649c74e49c47fb   \n",
       "1056                 Whole Foods Juice Bar  5a4bf31ec4df1d5eb204fa32   \n",
       "1057                      Aloy Modern Thai  566b2d8b498e58e746df5629   \n",
       "1058              Society Sports & Spirits  5323b83b11d2391c01a91ecc   \n",
       "\n",
       "      VenueLatitude  VenueLongitude  VenueDistance         VenueCategory  \n",
       "0         39.711768     -104.987187            425    Mexican Restaurant  \n",
       "1         39.713770     -104.987778            469        Breakfast Spot  \n",
       "2         39.712266     -104.987351            423           Coffee Shop  \n",
       "3         39.708700     -104.987460            482  Marijuana Dispensary  \n",
       "4         39.712253     -104.998576            568            Distillery  \n",
       "...             ...             ...            ...                   ...  \n",
       "1054      39.749279     -104.999730            474    Chinese Restaurant  \n",
       "1055      39.748789     -104.996578            559                   Gym  \n",
       "1056      39.754437     -105.001569            253             Juice Bar  \n",
       "1057      39.754306     -104.990624            712       Thai Restaurant  \n",
       "1058      39.749143     -105.000865            512                   Bar  \n",
       "\n",
       "[1059 rows x 9 columns]"
      ]
     },
     "execution_count": 9,
     "metadata": {},
     "output_type": "execute_result"
    }
   ],
   "source": [
    "venues = getNeighborhoodVenues (data['Latitude'], data['Longitude'], data['Neighborhoods'] )\n",
    "\n",
    "venues"
   ]
  },
  {
   "cell_type": "markdown",
   "metadata": {},
   "source": [
    "### 4) Analysis"
   ]
  },
  {
   "cell_type": "markdown",
   "metadata": {},
   "source": [
    "#### Restaurant Categories"
   ]
  },
  {
   "cell_type": "code",
   "execution_count": 10,
   "metadata": {},
   "outputs": [
    {
     "data": {
      "text/html": [
       "<div>\n",
       "<style scoped>\n",
       "    .dataframe tbody tr th:only-of-type {\n",
       "        vertical-align: middle;\n",
       "    }\n",
       "\n",
       "    .dataframe tbody tr th {\n",
       "        vertical-align: top;\n",
       "    }\n",
       "\n",
       "    .dataframe thead th {\n",
       "        text-align: right;\n",
       "    }\n",
       "</style>\n",
       "<table border=\"1\" class=\"dataframe\">\n",
       "  <thead>\n",
       "    <tr style=\"text-align: right;\">\n",
       "      <th></th>\n",
       "      <th>Count</th>\n",
       "    </tr>\n",
       "    <tr>\n",
       "      <th>VenueCategory</th>\n",
       "      <th></th>\n",
       "    </tr>\n",
       "  </thead>\n",
       "  <tbody>\n",
       "    <tr>\n",
       "      <td>Coffee Shop</td>\n",
       "      <td>44</td>\n",
       "    </tr>\n",
       "    <tr>\n",
       "      <td>American Restaurant</td>\n",
       "      <td>35</td>\n",
       "    </tr>\n",
       "    <tr>\n",
       "      <td>Mexican Restaurant</td>\n",
       "      <td>31</td>\n",
       "    </tr>\n",
       "    <tr>\n",
       "      <td>Bar</td>\n",
       "      <td>31</td>\n",
       "    </tr>\n",
       "    <tr>\n",
       "      <td>Pizza Place</td>\n",
       "      <td>24</td>\n",
       "    </tr>\n",
       "    <tr>\n",
       "      <td>Italian Restaurant</td>\n",
       "      <td>16</td>\n",
       "    </tr>\n",
       "    <tr>\n",
       "      <td>Hotel</td>\n",
       "      <td>16</td>\n",
       "    </tr>\n",
       "    <tr>\n",
       "      <td>Park</td>\n",
       "      <td>16</td>\n",
       "    </tr>\n",
       "    <tr>\n",
       "      <td>Sandwich Place</td>\n",
       "      <td>16</td>\n",
       "    </tr>\n",
       "    <tr>\n",
       "      <td>Zoo Exhibit</td>\n",
       "      <td>15</td>\n",
       "    </tr>\n",
       "  </tbody>\n",
       "</table>\n",
       "</div>"
      ],
      "text/plain": [
       "                     Count\n",
       "VenueCategory             \n",
       "Coffee Shop             44\n",
       "American Restaurant     35\n",
       "Mexican Restaurant      31\n",
       "Bar                     31\n",
       "Pizza Place             24\n",
       "Italian Restaurant      16\n",
       "Hotel                   16\n",
       "Park                    16\n",
       "Sandwich Place          16\n",
       "Zoo Exhibit             15"
      ]
     },
     "execution_count": 10,
     "metadata": {},
     "output_type": "execute_result"
    }
   ],
   "source": [
    "venues[['VenueId','VenueCategory']].drop_duplicates().groupby('VenueCategory').count() \\\n",
    "[['VenueId']].rename(columns={\"VenueId\": \"Count\"}).sort_values(by=['Count'], ascending=False)[:10]"
   ]
  },
  {
   "cell_type": "code",
   "execution_count": 11,
   "metadata": {},
   "outputs": [],
   "source": [
    "restaurant_list =['Restaurant', 'Joint', 'Café', 'Place', 'Bar', 'Pub']\n",
    "Italian_restaurant_list = ['Italian Restaurant', 'Italian ']\n",
    "\n",
    "venues['RestFlag']=False\n",
    "\n",
    "for restCat in restaurant_list:\n",
    "    venues['RestFlag'] = venues['RestFlag'] | venues['VenueCategory'].str.contains(restCat)\n",
    "    \n",
    "all_rests = venues[venues['RestFlag'] == True].iloc[:,:-1]\n",
    "\n",
    "Italian_restaurant = all_rests[ all_rests['VenueCategory'].isin(Italian_restaurant_list) ]\n",
    "other_restaurants = all_rests[ ~all_rests['VenueCategory'].isin(Italian_restaurant_list) ]"
   ]
  },
  {
   "cell_type": "code",
   "execution_count": 13,
   "metadata": {},
   "outputs": [
    {
     "name": "stdout",
     "output_type": "stream",
     "text": [
      "Number of restaurants: 335\n",
      "Number of Italian restaurants: 16\n",
      "Percentage of Italian restaurants: 4.78%\n"
     ]
    }
   ],
   "source": [
    "print('Number of restaurants:', len(all_rests['VenueId'].unique()))\n",
    "print('Number of Italian restaurants:', len(Italian_restaurant['VenueId'].unique()))\n",
    "print('Percentage of Italian restaurants: {:.2f}%'.format \\\n",
    "                (len(Italian_restaurant['VenueId'].unique()) / len(all_rests['VenueId'].unique()) * 100))"
   ]
  },
  {
   "cell_type": "markdown",
   "metadata": {},
   "source": [
    "#### Graphs"
   ]
  },
  {
   "cell_type": "code",
   "execution_count": 15,
   "metadata": {},
   "outputs": [
    {
     "name": "stdout",
     "output_type": "stream",
     "text": [
      "4 neighborhoods do not have any Italian restaurant restaurant.\n"
     ]
    }
   ],
   "source": [
    "df_rest_counts =  all_rests.groupby(['Neighborhoods']).count().rename(columns={\"VenueCategory\": \"RestaurantCount\"})[['RestaurantCount']]\n",
    "\n",
    "noRestList = list(set(all_rests['Neighborhoods']) - set(all_rests['Neighborhoods']))\n",
    "\n",
    "if noRestList != []:\n",
    "    df_rest_counts = df_rest_counts.append (pd.DataFrame( \\\n",
    "                {'Neighborhoods' : noRestList , 'RestaurantCount': [0] * len(noRestList) } ).set_index('Neighborhoods'))\n",
    "\n",
    "df_rest_counts.reset_index(inplace=True)\n",
    "\n",
    "df_it_rest_counts =  Italian_restaurant.groupby(['Neighborhoods']).count().rename(columns = \\\n",
    "                {\"VenueCategory\": \"ItalianRestaurantCount\"})[['ItalianRestaurantCount']]\n",
    "\n",
    "noRestList = list(set(all_rests['Neighborhoods']) - set(Italian_restaurant['Neighborhoods']))\n",
    "\n",
    "if noRestList != []:\n",
    "    df_it_rest_counts = df_it_rest_counts.append (pd.DataFrame( \\\n",
    "                {'Neighborhoods' : noRestList, 'ItalianRestaurantCount': [0] * len(noRestList) } ).set_index('Neighborhoods'))\n",
    "\n",
    "df_it_rest_counts.reset_index(inplace=True)\n",
    "df_rest_counts= df_rest_counts.merge(df_it_rest_counts).set_index('Neighborhoods')\n",
    "df_rest_counts= df_rest_counts.sort_values(by=['RestaurantCount'],ascending =False)\n",
    "\n",
    "print('{} neighborhoods do not have any Italian restaurant restaurant.'.format(len(noRestList)))"
   ]
  },
  {
   "cell_type": "code",
   "execution_count": 62,
   "metadata": {},
   "outputs": [
    {
     "data": {
      "image/png": "[encoded data removed]",
      "text/plain": [
       "<Figure size 1080x504 with 1 Axes>"
      ]
     },
     "metadata": {
      "needs_background": "light"
     },
     "output_type": "display_data"
    }
   ],
   "source": [
    "df_rest_counts[['RestaurantCount','ItalianRestaurantCount']].plot(kind='bar',figsize=(15,7))\n",
    "plt.title('Restaurant Counts of Neighborhoods')\n",
    "plt.xlabel('Neighborhood')\n",
    "plt.ylabel('Restaurant Counts')\n",
    "plt.show()"
   ]
  },
  {
   "cell_type": "markdown",
   "metadata": {},
   "source": [
    "#### (The next graph is similar to the one above, however it looks at percent of the totals)"
   ]
  },
  {
   "cell_type": "code",
   "execution_count": 117,
   "metadata": {},
   "outputs": [
    {
     "name": "stderr",
     "output_type": "stream",
     "text": [
      "C:\\Users\\Eric\\Anaconda3\\lib\\site-packages\\ipykernel_launcher.py:18: SettingWithCopyWarning: \n",
      "A value is trying to be set on a copy of a slice from a DataFrame.\n",
      "Try using .loc[row_indexer,col_indexer] = value instead\n",
      "\n",
      "See the caveats in the documentation: http://pandas.pydata.org/pandas-docs/stable/user_guide/indexing.html#returning-a-view-versus-a-copy\n"
     ]
    }
   ],
   "source": [
    "A = df_rest_counts[['RestaurantCount','ItalianRestaurantCount']]\n",
    "B = data[['Neighborhoods', 'Pop']]\n",
    "\n",
    "#RestaurantCount\n",
    "tempRC = A['RestaurantCount']\n",
    "tempRC = (tempRC / sum(tempRC)) * 100\n",
    "\n",
    "#ItalianRestaurantCount\n",
    "tempIRC = A['ItalianRestaurantCount']\n",
    "tempIRC = (tempIRC / sum(tempIRC)) * 100\n",
    "\n",
    "#Pop\n",
    "tempPop = B['Pop']\n",
    "tempPop = (tempPop / sum(tempPop)) * 100\n",
    "\n",
    "A['RestaurantPercent'] = tempRC\n",
    "A['ItalianRestaurantPercent'] = tempIRC\n",
    "B['PopPercent'] = tempPop\n",
    "\n",
    "#Merging\n",
    "C = pd.DataFrame()\n",
    "C = pd.merge(A, B, how='inner', on='Neighborhoods')\n",
    "C.set_index('Neighborhoods', inplace=True)"
   ]
  },
  {
   "cell_type": "code",
   "execution_count": 118,
   "metadata": {},
   "outputs": [
    {
     "data": {
      "image/png": "[encoded data removed]",
      "text/plain": [
       "<Figure size 1080x504 with 1 Axes>"
      ]
     },
     "metadata": {
      "needs_background": "light"
     },
     "output_type": "display_data"
    }
   ],
   "source": [
    "C[['RestaurantPercent','ItalianRestaurantPercent', 'PopPercent']].plot(kind='bar',figsize=(15,7))\n",
    "plt.title('Restaurant Counts Based on %')\n",
    "plt.xlabel('Neighborhoods')\n",
    "plt.ylabel('Percent (%)')\n",
    "plt.show()"
   ]
  },
  {
   "cell_type": "markdown",
   "metadata": {},
   "source": [
    "### 5) Discussion"
   ]
  },
  {
   "cell_type": "markdown",
   "metadata": {},
   "source": [
    "#### Possible Locations"
   ]
  },
  {
   "cell_type": "markdown",
   "metadata": {},
   "source": [
    "#### Using the graph above, we can narrow down the option to: \n",
    "    Congress Park\n",
    "    Capitol Hill\n",
    "    City Park West\n",
    "    Baker\n",
    "    Cheesman Park\n",
    "    Lincoln Park"
   ]
  },
  {
   "cell_type": "code",
   "execution_count": 148,
   "metadata": {},
   "outputs": [
    {
     "data": {
      "text/html": [
       "<div>\n",
       "<style scoped>\n",
       "    .dataframe tbody tr th:only-of-type {\n",
       "        vertical-align: middle;\n",
       "    }\n",
       "\n",
       "    .dataframe tbody tr th {\n",
       "        vertical-align: top;\n",
       "    }\n",
       "\n",
       "    .dataframe thead th {\n",
       "        text-align: right;\n",
       "    }\n",
       "</style>\n",
       "<table border=\"1\" class=\"dataframe\">\n",
       "  <thead>\n",
       "    <tr style=\"text-align: right;\">\n",
       "      <th></th>\n",
       "      <th>RestaurantPercent</th>\n",
       "      <th>ItalianRestaurantPercent</th>\n",
       "      <th>PopPercent</th>\n",
       "    </tr>\n",
       "    <tr>\n",
       "      <th>Neighborhoods</th>\n",
       "      <th></th>\n",
       "      <th></th>\n",
       "      <th></th>\n",
       "    </tr>\n",
       "  </thead>\n",
       "  <tbody>\n",
       "    <tr>\n",
       "      <td>Congress Park</td>\n",
       "      <td>4.666667</td>\n",
       "      <td>9.090909</td>\n",
       "      <td>25.279833</td>\n",
       "    </tr>\n",
       "    <tr>\n",
       "      <td>Capitol Hill</td>\n",
       "      <td>10.222222</td>\n",
       "      <td>18.181818</td>\n",
       "      <td>15.159448</td>\n",
       "    </tr>\n",
       "    <tr>\n",
       "      <td>City Park West</td>\n",
       "      <td>11.333333</td>\n",
       "      <td>0.000000</td>\n",
       "      <td>5.558533</td>\n",
       "    </tr>\n",
       "    <tr>\n",
       "      <td>Baker</td>\n",
       "      <td>9.333333</td>\n",
       "      <td>0.000000</td>\n",
       "      <td>5.028756</td>\n",
       "    </tr>\n",
       "    <tr>\n",
       "      <td>Cheesman Park</td>\n",
       "      <td>4.888889</td>\n",
       "      <td>0.000000</td>\n",
       "      <td>6.088310</td>\n",
       "    </tr>\n",
       "    <tr>\n",
       "      <td>Lincoln Park</td>\n",
       "      <td>4.222222</td>\n",
       "      <td>0.000000</td>\n",
       "      <td>6.306817</td>\n",
       "    </tr>\n",
       "  </tbody>\n",
       "</table>\n",
       "</div>"
      ],
      "text/plain": [
       "                RestaurantPercent  ItalianRestaurantPercent  PopPercent\n",
       "Neighborhoods                                                          \n",
       "Congress Park            4.666667                  9.090909   25.279833\n",
       "Capitol Hill            10.222222                 18.181818   15.159448\n",
       "City Park West          11.333333                  0.000000    5.558533\n",
       "Baker                    9.333333                  0.000000    5.028756\n",
       "Cheesman Park            4.888889                  0.000000    6.088310\n",
       "Lincoln Park             4.222222                  0.000000    6.306817"
      ]
     },
     "execution_count": 148,
     "metadata": {},
     "output_type": "execute_result"
    }
   ],
   "source": [
    "C.loc[['Congress Park', 'Capitol Hill', 'City Park West', 'Baker', 'Cheesman Park', 'Lincoln Park'] \\\n",
    "              , ['RestaurantPercent', 'ItalianRestaurantPercent', 'PopPercent']]"
   ]
  },
  {
   "cell_type": "markdown",
   "metadata": {},
   "source": [
    "#### Looking at the table above, we can remove a few more neighborhoods.\n",
    "\n",
    "    Capitol Hill     - ItalianRestaurantPercent is too high\n",
    "    City Park West   - RestaurantPercent is too high and PopPercent is lower than other options\n",
    "    Baker            - RestaurantPercent is too high and PopPercent is lower than other options"
   ]
  },
  {
   "cell_type": "code",
   "execution_count": 164,
   "metadata": {},
   "outputs": [
    {
     "data": {
      "text/html": [
       "<div>\n",
       "<style scoped>\n",
       "    .dataframe tbody tr th:only-of-type {\n",
       "        vertical-align: middle;\n",
       "    }\n",
       "\n",
       "    .dataframe tbody tr th {\n",
       "        vertical-align: top;\n",
       "    }\n",
       "\n",
       "    .dataframe thead th {\n",
       "        text-align: right;\n",
       "    }\n",
       "</style>\n",
       "<table border=\"1\" class=\"dataframe\">\n",
       "  <thead>\n",
       "    <tr style=\"text-align: right;\">\n",
       "      <th></th>\n",
       "      <th>RestaurantPercent</th>\n",
       "      <th>ItalianRestaurantPercent</th>\n",
       "      <th>PopPercent</th>\n",
       "    </tr>\n",
       "    <tr>\n",
       "      <th>Neighborhoods</th>\n",
       "      <th></th>\n",
       "      <th></th>\n",
       "      <th></th>\n",
       "    </tr>\n",
       "  </thead>\n",
       "  <tbody>\n",
       "    <tr>\n",
       "      <td>Congress Park</td>\n",
       "      <td>4.666667</td>\n",
       "      <td>9.090909</td>\n",
       "      <td>25.279833</td>\n",
       "    </tr>\n",
       "    <tr>\n",
       "      <td>Cheesman Park</td>\n",
       "      <td>4.888889</td>\n",
       "      <td>0.000000</td>\n",
       "      <td>6.088310</td>\n",
       "    </tr>\n",
       "    <tr>\n",
       "      <td>Lincoln Park</td>\n",
       "      <td>4.222222</td>\n",
       "      <td>0.000000</td>\n",
       "      <td>6.306817</td>\n",
       "    </tr>\n",
       "  </tbody>\n",
       "</table>\n",
       "</div>"
      ],
      "text/plain": [
       "               RestaurantPercent  ItalianRestaurantPercent  PopPercent\n",
       "Neighborhoods                                                         \n",
       "Congress Park           4.666667                  9.090909   25.279833\n",
       "Cheesman Park           4.888889                  0.000000    6.088310\n",
       "Lincoln Park            4.222222                  0.000000    6.306817"
      ]
     },
     "execution_count": 164,
     "metadata": {},
     "output_type": "execute_result"
    }
   ],
   "source": [
    "C.loc[['Congress Park', 'Cheesman Park', 'Lincoln Park'] \\\n",
    "              , ['RestaurantPercent', 'ItalianRestaurantPercent', 'PopPercent']]"
   ]
  },
  {
   "cell_type": "markdown",
   "metadata": {},
   "source": [
    "\n",
    "#### I'm indifferent about the last three options.\n",
    "\n",
    "    Congress Park does have other Italian restaurants. However, it also has the largest population percentage of all of the neighborhoods.\n",
    "\n",
    "    Cheesman Park and Lincoln Park are very similar. Both have no other Italian restaurants and almost identical population percentages."
   ]
  },
  {
   "cell_type": "code",
   "execution_count": 163,
   "metadata": {},
   "outputs": [
    {
     "data": {
      "text/html": [
       "<div style=\"width:100%;\"><div style=\"position:relative;width:100%;height:0;padding-bottom:60%;\"><span style=\"color:#565656\">Make this Notebook Trusted to load map: File -> Trust Notebook</span><iframe src=\"about:blank\" style=\"position:absolute;width:100%;height:100%;left:0;top:0;border:none !important;\" data-html=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 onload=\"this.contentDocument.open();this.contentDocument.write(atob(this.getAttribute('data-html')));this.contentDocument.close();\" allowfullscreen webkitallowfullscreen mozallowfullscreen></iframe></div></div>"
      ],
      "text/plain": [
       "<folium.folium.Map at 0x25ecd9182c8>"
      ]
     },
     "execution_count": 163,
     "metadata": {},
     "output_type": "execute_result"
    }
   ],
   "source": [
    "dfm2 = data.loc[ [5, 3, 8] , : ]\n",
    "\n",
    "map2 = folium.Map(location=[latitude - .005, longitude + .01], zoom_start=14)\n",
    "\n",
    "for lat, lng, neighborhood in zip(dfm2['Latitude'], dfm2['Longitude'], dfm2['Neighborhoods']):\n",
    "    label = '{}'.format(neighborhood)\n",
    "    label = folium.Popup(label, parse_html=True)\n",
    "    folium.CircleMarker(\n",
    "        [lat, lng],\n",
    "        radius=100,\n",
    "        popup=label,\n",
    "        color='blue',\n",
    "        fill=True,\n",
    "        fill_color='#3186cc',\n",
    "        fill_opacity=0.25,\n",
    "        parse_html=False).add_to(map2)\n",
    "map2"
   ]
  },
  {
   "cell_type": "code",
   "execution_count": null,
   "metadata": {},
   "outputs": [],
   "source": []
  }
 ],
 "metadata": {
  "kernelspec": {
   "display_name": "Python 3",
   "language": "python",
   "name": "python3"
  },
  "language_info": {
   "codemirror_mode": {
    "name": "ipython",
    "version": 3
   },
   "file_extension": ".py",
   "mimetype": "text/x-python",
   "name": "python",
   "nbconvert_exporter": "python",
   "pygments_lexer": "ipython3",
   "version": "3.7.4"
  }
 },
 "nbformat": 4,
 "nbformat_minor": 2
}
